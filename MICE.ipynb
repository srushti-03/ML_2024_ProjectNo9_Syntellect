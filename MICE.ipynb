{
  "nbformat": 4,
  "nbformat_minor": 0,
  "metadata": {
    "colab": {
      "provenance": [],
      "authorship_tag": "ABX9TyO5sy6/C4m6VwcwMDDaaU5+",
      "include_colab_link": true
    },
    "kernelspec": {
      "name": "python3",
      "display_name": "Python 3"
    },
    "language_info": {
      "name": "python"
    }
  },
  "cells": [
    {
      "cell_type": "markdown",
      "metadata": {
        "id": "view-in-github",
        "colab_type": "text"
      },
      "source": [
        "<a href=\"https://colab.research.google.com/github/srushti-03/ML_2024_ProjectNo9_Syntellect/blob/main/MICE.ipynb\" target=\"_parent\"><img src=\"https://colab.research.google.com/assets/colab-badge.svg\" alt=\"Open In Colab\"/></a>"
      ]
    },
    {
      "cell_type": "code",
      "execution_count": 1,
      "metadata": {
        "colab": {
          "base_uri": "https://localhost:8080/"
        },
        "id": "lRvbJ818julP",
        "outputId": "9f1c03dd-445d-44c6-a84e-f7396cd66050"
      },
      "outputs": [
        {
          "output_type": "stream",
          "name": "stdout",
          "text": [
            "Requirement already satisfied: scikit-learn in /usr/local/lib/python3.10/dist-packages (1.2.2)\n",
            "Requirement already satisfied: numpy>=1.17.3 in /usr/local/lib/python3.10/dist-packages (from scikit-learn) (1.25.2)\n",
            "Requirement already satisfied: scipy>=1.3.2 in /usr/local/lib/python3.10/dist-packages (from scikit-learn) (1.11.4)\n",
            "Requirement already satisfied: joblib>=1.1.1 in /usr/local/lib/python3.10/dist-packages (from scikit-learn) (1.3.2)\n",
            "Requirement already satisfied: threadpoolctl>=2.0.0 in /usr/local/lib/python3.10/dist-packages (from scikit-learn) (3.3.0)\n"
          ]
        }
      ],
      "source": [
        "pip install scikit-learn\n"
      ]
    },
    {
      "cell_type": "markdown",
      "source": [
        "Example of MICE algorithm on a small dataset."
      ],
      "metadata": {
        "id": "twfqv7UzlND0"
      }
    },
    {
      "cell_type": "code",
      "source": [
        "import numpy as np\n",
        "from sklearn.experimental import enable_iterative_imputer\n",
        "from sklearn.impute import IterativeImputer\n",
        "\n",
        "# Generate sample data with missing values\n",
        "np.random.seed(0)\n",
        "n_samples, n_features = 10, 5\n",
        "X_train = np.random.randn(n_samples, n_features)\n",
        "y_train = np.random.randn(n_samples)\n",
        "missing_mask = np.random.rand(n_samples, n_features) < 0.1\n",
        "X_train_missing = X_train.copy()\n",
        "X_train_missing[missing_mask] = np.nan\n",
        "\n",
        "# Initialize the IterativeImputer\n",
        "imputer = IterativeImputer(random_state=0)\n",
        "\n",
        "# Fit the imputer model on the training data\n",
        "imputer.fit(X_train_missing)\n",
        "\n",
        "# Impute missing values\n",
        "X_train_imputed = imputer.transform(X_train_missing)\n",
        "\n",
        "# Output the imputed data\n",
        "print(\"Original Data:\")\n",
        "print(X_train)\n",
        "print(\"\\nData with Missing Values:\")\n",
        "print(X_train_missing)\n",
        "print(\"\\nImputed Data:\")\n",
        "print(X_train_imputed)\n"
      ],
      "metadata": {
        "colab": {
          "base_uri": "https://localhost:8080/"
        },
        "id": "DubAh1Kjkt52",
        "outputId": "84ee82b6-0785-447b-eb86-e7ef27c98819"
      },
      "execution_count": 2,
      "outputs": [
        {
          "output_type": "stream",
          "name": "stdout",
          "text": [
            "Original Data:\n",
            "[[ 1.76405235  0.40015721  0.97873798  2.2408932   1.86755799]\n",
            " [-0.97727788  0.95008842 -0.15135721 -0.10321885  0.4105985 ]\n",
            " [ 0.14404357  1.45427351  0.76103773  0.12167502  0.44386323]\n",
            " [ 0.33367433  1.49407907 -0.20515826  0.3130677  -0.85409574]\n",
            " [-2.55298982  0.6536186   0.8644362  -0.74216502  2.26975462]\n",
            " [-1.45436567  0.04575852 -0.18718385  1.53277921  1.46935877]\n",
            " [ 0.15494743  0.37816252 -0.88778575 -1.98079647 -0.34791215]\n",
            " [ 0.15634897  1.23029068  1.20237985 -0.38732682 -0.30230275]\n",
            " [-1.04855297 -1.42001794 -1.70627019  1.9507754  -0.50965218]\n",
            " [-0.4380743  -1.25279536  0.77749036 -1.61389785 -0.21274028]]\n",
            "\n",
            "Data with Missing Values:\n",
            "[[ 1.76405235  0.40015721  0.97873798  2.2408932          nan]\n",
            " [-0.97727788  0.95008842 -0.15135721 -0.10321885         nan]\n",
            " [ 0.14404357  1.45427351  0.76103773  0.12167502  0.44386323]\n",
            " [ 0.33367433  1.49407907 -0.20515826  0.3130677          nan]\n",
            " [-2.55298982         nan  0.8644362  -0.74216502  2.26975462]\n",
            " [-1.45436567  0.04575852 -0.18718385  1.53277921  1.46935877]\n",
            " [ 0.15494743  0.37816252 -0.88778575 -1.98079647 -0.34791215]\n",
            " [ 0.15634897  1.23029068  1.20237985 -0.38732682 -0.30230275]\n",
            " [-1.04855297 -1.42001794 -1.70627019  1.9507754  -0.50965218]\n",
            " [-0.4380743  -1.25279536  0.77749036         nan -0.21274028]]\n",
            "\n",
            "Imputed Data:\n",
            "[[ 1.76405235  0.40015721  0.97873798  2.2408932  -1.3843661 ]\n",
            " [-0.97727788  0.95008842 -0.15135721 -0.10321885  0.85481015]\n",
            " [ 0.14404357  1.45427351  0.76103773  0.12167502  0.44386323]\n",
            " [ 0.33367433  1.49407907 -0.20515826  0.3130677  -0.03638045]\n",
            " [-2.55298982  0.48150501  0.8644362  -0.74216502  2.26975462]\n",
            " [-1.45436567  0.04575852 -0.18718385  1.53277921  1.46935877]\n",
            " [ 0.15494743  0.37816252 -0.88778575 -1.98079647 -0.34791215]\n",
            " [ 0.15634897  1.23029068  1.20237985 -0.38732682 -0.30230275]\n",
            " [-1.04855297 -1.42001794 -1.70627019  1.9507754  -0.50965218]\n",
            " [-0.4380743  -1.25279536  0.77749036  0.33031529 -0.21274028]]\n"
          ]
        }
      ]
    }
  ]
}